{
 "cells": [
  {
   "cell_type": "code",
   "execution_count": 26,
   "metadata": {
    "collapsed": false
   },
   "outputs": [
    {
     "name": "stdout",
     "output_type": "stream",
     "text": [
      "instance id i-03489340862ef9da2\n"
     ]
    },
    {
     "name": "stdout",
     "output_type": "stream",
     "text": [
      "created\n"
     ]
    },
    {
     "name": "stdout",
     "output_type": "stream",
     "text": [
      "attached\n"
     ]
    },
    {
     "name": "stdout",
     "output_type": "stream",
     "text": [
      "container\n"
     ]
    },
    {
     "name": "stdout",
     "output_type": "stream",
     "text": [
      "finished\n",
      "Ip Address 54.226.79.206\n"
     ]
    },
    {
     "name": "stdout",
     "output_type": "stream",
     "text": [
      "Public Dns Name ec2-54-226-79-206.compute-1.amazonaws.com\n"
     ]
    },
    {
     "ename": "NameError",
     "evalue": "name 'client' is not defined",
     "output_type": "error",
     "traceback": [
      "\u001b[0;31m\u001b[0m",
      "\u001b[0;31mNameError\u001b[0mTraceback (most recent call last)",
      "\u001b[0;32m<ipython-input-26-40f0c7e5c215>\u001b[0m in \u001b[0;36m<module>\u001b[0;34m\u001b[0m\n\u001b[1;32m     57\u001b[0m \u001b[0murl\u001b[0m \u001b[0;34m=\u001b[0m \u001b[0minstance_id\u001b[0m\u001b[0;34m[\u001b[0m\u001b[0;36m2\u001b[0m\u001b[0;34m:\u001b[0m\u001b[0;34m]\u001b[0m \u001b[0;34m+\u001b[0m \u001b[0;34m\".synesthesiavisualizer.com\"\u001b[0m\u001b[0;34m\u001b[0m\u001b[0;34m\u001b[0m\u001b[0m\n\u001b[1;32m     58\u001b[0m \u001b[0;31m#hosted_zone = r53.create_hosted_zone(Name = url, CallerReference = instance_id[2:])\u001b[0m\u001b[0;34m\u001b[0m\u001b[0;34m\u001b[0m\u001b[0;34m\u001b[0m\u001b[0m\n\u001b[0;32m---> 59\u001b[0;31m \u001b[0mrecord\u001b[0m \u001b[0;34m=\u001b[0m \u001b[0mclient\u001b[0m\u001b[0;34m.\u001b[0m\u001b[0mchange_resource_record_sets\u001b[0m\u001b[0;34m(\u001b[0m\u001b[0mHostedZoneId\u001b[0m\u001b[0;34m=\u001b[0m\u001b[0murl\u001b[0m\u001b[0;34m,\u001b[0m \u001b[0mChangeBatch\u001b[0m\u001b[0;34m=\u001b[0m\u001b[0;34m{\u001b[0m\u001b[0;34m'Changes'\u001b[0m\u001b[0;34m:\u001b[0m \u001b[0;34m[\u001b[0m\u001b[0;34m{\u001b[0m\u001b[0;34m'Action'\u001b[0m\u001b[0;34m:\u001b[0m \u001b[0;34m'CREATE'\u001b[0m\u001b[0;34m,\u001b[0m\u001b[0;34m'ResourceRecordSet'\u001b[0m\u001b[0;34m:\u001b[0m \u001b[0;34m{\u001b[0m\u001b[0;34m'Name'\u001b[0m\u001b[0;34m:\u001b[0m \u001b[0murl\u001b[0m\u001b[0;34m,\u001b[0m\u001b[0;34m'Type'\u001b[0m\u001b[0;34m:\u001b[0m \u001b[0;34m'A'\u001b[0m\u001b[0;34m,\u001b[0m\u001b[0;34m'ResourceRecords'\u001b[0m\u001b[0;34m:\u001b[0m \u001b[0;34m[\u001b[0m\u001b[0;34m{\u001b[0m\u001b[0;34m'Value'\u001b[0m\u001b[0;34m:\u001b[0m \u001b[0mip_address\u001b[0m\u001b[0;34m}\u001b[0m\u001b[0;34m,\u001b[0m\u001b[0;34m]\u001b[0m\u001b[0;34m,\u001b[0m\u001b[0;34m}\u001b[0m\u001b[0;34m}\u001b[0m\u001b[0;34m,\u001b[0m\u001b[0;34m]\u001b[0m\u001b[0;34m}\u001b[0m\u001b[0;34m)\u001b[0m\u001b[0;34m\u001b[0m\u001b[0;34m\u001b[0m\u001b[0m\n\u001b[0m\u001b[1;32m     60\u001b[0m \u001b[0mprint\u001b[0m\u001b[0;34m(\u001b[0m\u001b[0;34m'zone'\u001b[0m\u001b[0;34m)\u001b[0m\u001b[0;34m\u001b[0m\u001b[0;34m\u001b[0m\u001b[0m\n\u001b[1;32m     61\u001b[0m \u001b[0;31m#record_set = r53.change_resource_record_sets(HostedZoneId = url, ChangeBatch = {'Changes': [{}]})\u001b[0m\u001b[0;34m\u001b[0m\u001b[0;34m\u001b[0m\u001b[0;34m\u001b[0m\u001b[0m\n",
      "\u001b[0;31mNameError\u001b[0m: name 'client' is not defined"
     ]
    }
   ],
   "source": [
    "#create container\n",
    "import boto3\n",
    "import time\n",
    "import pprint\n",
    "pp = pprint.PrettyPrinter(depth=4)\n",
    "ec2 = boto3.resource('ec2')\n",
    "ec2_client = boto3.client('ec2')\n",
    "autoscaling = boto3.client('autoscaling')\n",
    "ecs = boto3.client('ecs')\n",
    "r53 = boto3.client('route53')\n",
    "launchtemplate = 'EC2ContainerService-sysvis-EcsInstanceLc-1H1654961ZY8F'\n",
    "autoscalinggroup = 'EC2ContainerService-sysvis-EcsInstanceAsg-196WYOOZAFI87'\n",
    "vpc = 'vpc-0d7c412110e5f49f2'\n",
    "subnet = 'subnet-0596881f608fd4f70'\n",
    "securitygroup = 'sg-05c4123649a439051'\n",
    "hosted_zone_id = \"Z09241041ZJLPUFRNRNGX\"\n",
    "instance_id = ec2.create_instances(MinCount=1, MaxCount=1, LaunchTemplate={'LaunchTemplateName':launchtemplate}, SecurityGroupIds=[securitygroup], SubnetId=subnet)\n",
    "instance_id = instance_id[0].instance_id\n",
    "print('instance id', instance_id)\n",
    "ready = False\n",
    "time.sleep(2)\n",
    "while not ready:\n",
    "    if ec2_client.describe_instances(InstanceIds=[instance_id])['Reservations'][0]['Instances'][0]['State']['Name'] =='running':\n",
    "        ready = True\n",
    "time.sleep(2)\n",
    "autoscaling.attach_instances(AutoScalingGroupName=autoscalinggroup, InstanceIds=[instance_id])\n",
    "ready = False\n",
    "print('created')\n",
    "while not ready:\n",
    "    response = autoscaling.describe_auto_scaling_groups(AutoScalingGroupNames=[autoscalinggroup])\n",
    "    realresponse = response['AutoScalingGroups'][0]\n",
    "    instances = realresponse['Instances']\n",
    "    for i in instances:\n",
    "        if i['InstanceId'] == instance_id:\n",
    "            ready = True\n",
    "print('attached')\n",
    "ready = False\n",
    "while not ready:\n",
    "    containers = ecs.list_container_instances(cluster='sysvis')['containerInstanceArns']\n",
    "    for i in containers:\n",
    "        container = i\n",
    "        findinstanceid = ecs.describe_container_instances(cluster='sysvis',containerInstances=[container])['containerInstances'][0]['ec2InstanceId']\n",
    "        if findinstanceid == instance_id:\n",
    "            ready = True\n",
    "task = ecs.start_task(cluster='sysvis', taskDefinition='sysvis', containerInstances=[container])\n",
    "time.sleep(2)\n",
    "task_arn = task['tasks'][0]['taskArn']\n",
    "ready = False\n",
    "print('container')\n",
    "while not ready:\n",
    "    status = ecs.describe_tasks(cluster = 'sysvis', tasks = [task_arn])['tasks'][0]['lastStatus']\n",
    "    if status == 'RUNNING':\n",
    "        ready = True\n",
    "print('finished')\n",
    "print('Ip Address', ec2_client.describe_instances(InstanceIds=[instance_id])['Reservations'][0]['Instances'][0]['PublicIpAddress'])\n",
    "ip_address = ec2_client.describe_instances(InstanceIds=[instance_id])['Reservations'][0]['Instances'][0]['PublicIpAddress']\n",
    "print('Public Dns Name', ec2_client.describe_instances(InstanceIds=[instance_id])['Reservations'][0]['Instances'][0]['PublicDnsName'])\n",
    "url = instance_id[2:] + \".synesthesiavisualizer.com\"\n",
    "#hosted_zone = r53.create_hosted_zone(Name = url, CallerReference = instance_id[2:])\n",
    "record = r53.change_resource_record_sets(HostedZoneId=url, ChangeBatch={'Changes': [{'Action': 'CREATE','ResourceRecordSet': {'Name': url,'Type': 'A','ResourceRecords': [{'Value': ip_address},],}},]})\n",
    "print('zone')\n",
    "#record_set = r53.change_resource_record_sets(HostedZoneId = url, ChangeBatch = {'Changes': [{}]})"
   ]
  },
  {
   "cell_type": "code",
   "execution_count": 32,
   "metadata": {
    "collapsed": false
   },
   "outputs": [
    {
     "ename": "InvalidInput",
     "evalue": "An error occurred (InvalidInput) when calling the ChangeResourceRecordSets operation: Invalid request: Expected exactly one of [AliasTarget, all of [TTL, and ResourceRecords], or TrafficPolicyInstanceId], but found none in Change with [Action=CREATE, Name=03489340862ef9da2.synesthesiavisualizer.com, Type=A, SetIdentifier=null]",
     "output_type": "error",
     "traceback": [
      "\u001b[0;31m\u001b[0m",
      "\u001b[0;31mInvalidInput\u001b[0mTraceback (most recent call last)",
      "\u001b[0;32m<ipython-input-32-01f2d263e227>\u001b[0m in \u001b[0;36m<module>\u001b[0;34m\u001b[0m\n\u001b[1;32m      1\u001b[0m \u001b[0murl\u001b[0m \u001b[0;34m=\u001b[0m \u001b[0minstance_id\u001b[0m\u001b[0;34m[\u001b[0m\u001b[0;36m2\u001b[0m\u001b[0;34m:\u001b[0m\u001b[0;34m]\u001b[0m \u001b[0;34m+\u001b[0m \u001b[0;34m\".synesthesiavisualizer.com\"\u001b[0m\u001b[0;34m\u001b[0m\u001b[0;34m\u001b[0m\u001b[0m\n\u001b[0;32m----> 2\u001b[0;31m \u001b[0mrecord\u001b[0m \u001b[0;34m=\u001b[0m \u001b[0mr53\u001b[0m\u001b[0;34m.\u001b[0m\u001b[0mchange_resource_record_sets\u001b[0m\u001b[0;34m(\u001b[0m\u001b[0mHostedZoneId\u001b[0m\u001b[0;34m=\u001b[0m\u001b[0;34m\"Z09241041ZJLPUFRNRNGX\"\u001b[0m\u001b[0;34m,\u001b[0m \u001b[0mChangeBatch\u001b[0m\u001b[0;34m=\u001b[0m\u001b[0;34m{\u001b[0m\u001b[0;34m'Changes'\u001b[0m\u001b[0;34m:\u001b[0m \u001b[0;34m[\u001b[0m\u001b[0;34m{\u001b[0m\u001b[0;34m'Action'\u001b[0m\u001b[0;34m:\u001b[0m \u001b[0;34m'CREATE'\u001b[0m\u001b[0;34m,\u001b[0m\u001b[0;34m'ResourceRecordSet'\u001b[0m\u001b[0;34m:\u001b[0m \u001b[0;34m{\u001b[0m\u001b[0;34m'Name'\u001b[0m\u001b[0;34m:\u001b[0m \u001b[0murl\u001b[0m\u001b[0;34m,\u001b[0m\u001b[0;34m'Type'\u001b[0m\u001b[0;34m:\u001b[0m \u001b[0;34m'A'\u001b[0m\u001b[0;34m,\u001b[0m\u001b[0;34m'ResourceRecords'\u001b[0m\u001b[0;34m:\u001b[0m \u001b[0;34m[\u001b[0m\u001b[0;34m{\u001b[0m\u001b[0;34m'Value'\u001b[0m\u001b[0;34m:\u001b[0m \u001b[0mip_address\u001b[0m\u001b[0;34m}\u001b[0m\u001b[0;34m,\u001b[0m\u001b[0;34m]\u001b[0m\u001b[0;34m,\u001b[0m\u001b[0;34m}\u001b[0m\u001b[0;34m}\u001b[0m\u001b[0;34m,\u001b[0m\u001b[0;34m]\u001b[0m\u001b[0;34m}\u001b[0m\u001b[0;34m)\u001b[0m\u001b[0;34m\u001b[0m\u001b[0;34m\u001b[0m\u001b[0m\n\u001b[0m",
      "\u001b[0;32m~/docs/coding/Python/env/lib/python3.8/site-packages/botocore/client.py\u001b[0m in \u001b[0;36m_api_call\u001b[0;34m(self, *args, **kwargs)\u001b[0m\n\u001b[1;32m    355\u001b[0m                     \"%s() only accepts keyword arguments.\" % py_operation_name)\n\u001b[1;32m    356\u001b[0m             \u001b[0;31m# The \"self\" in this scope is referring to the BaseClient.\u001b[0m\u001b[0;34m\u001b[0m\u001b[0;34m\u001b[0m\u001b[0;34m\u001b[0m\u001b[0m\n\u001b[0;32m--> 357\u001b[0;31m             \u001b[0;32mreturn\u001b[0m \u001b[0mself\u001b[0m\u001b[0;34m.\u001b[0m\u001b[0m_make_api_call\u001b[0m\u001b[0;34m(\u001b[0m\u001b[0moperation_name\u001b[0m\u001b[0;34m,\u001b[0m \u001b[0mkwargs\u001b[0m\u001b[0;34m)\u001b[0m\u001b[0;34m\u001b[0m\u001b[0;34m\u001b[0m\u001b[0m\n\u001b[0m\u001b[1;32m    358\u001b[0m \u001b[0;34m\u001b[0m\u001b[0m\n\u001b[1;32m    359\u001b[0m         \u001b[0m_api_call\u001b[0m\u001b[0;34m.\u001b[0m\u001b[0m__name__\u001b[0m \u001b[0;34m=\u001b[0m \u001b[0mstr\u001b[0m\u001b[0;34m(\u001b[0m\u001b[0mpy_operation_name\u001b[0m\u001b[0;34m)\u001b[0m\u001b[0;34m\u001b[0m\u001b[0;34m\u001b[0m\u001b[0m\n",
      "\u001b[0;32m~/docs/coding/Python/env/lib/python3.8/site-packages/botocore/client.py\u001b[0m in \u001b[0;36m_make_api_call\u001b[0;34m(self, operation_name, api_params)\u001b[0m\n\u001b[1;32m    674\u001b[0m             \u001b[0merror_code\u001b[0m \u001b[0;34m=\u001b[0m \u001b[0mparsed_response\u001b[0m\u001b[0;34m.\u001b[0m\u001b[0mget\u001b[0m\u001b[0;34m(\u001b[0m\u001b[0;34m\"Error\"\u001b[0m\u001b[0;34m,\u001b[0m \u001b[0;34m{\u001b[0m\u001b[0;34m}\u001b[0m\u001b[0;34m)\u001b[0m\u001b[0;34m.\u001b[0m\u001b[0mget\u001b[0m\u001b[0;34m(\u001b[0m\u001b[0;34m\"Code\"\u001b[0m\u001b[0;34m)\u001b[0m\u001b[0;34m\u001b[0m\u001b[0;34m\u001b[0m\u001b[0m\n\u001b[1;32m    675\u001b[0m             \u001b[0merror_class\u001b[0m \u001b[0;34m=\u001b[0m \u001b[0mself\u001b[0m\u001b[0;34m.\u001b[0m\u001b[0mexceptions\u001b[0m\u001b[0;34m.\u001b[0m\u001b[0mfrom_code\u001b[0m\u001b[0;34m(\u001b[0m\u001b[0merror_code\u001b[0m\u001b[0;34m)\u001b[0m\u001b[0;34m\u001b[0m\u001b[0;34m\u001b[0m\u001b[0m\n\u001b[0;32m--> 676\u001b[0;31m             \u001b[0;32mraise\u001b[0m \u001b[0merror_class\u001b[0m\u001b[0;34m(\u001b[0m\u001b[0mparsed_response\u001b[0m\u001b[0;34m,\u001b[0m \u001b[0moperation_name\u001b[0m\u001b[0;34m)\u001b[0m\u001b[0;34m\u001b[0m\u001b[0;34m\u001b[0m\u001b[0m\n\u001b[0m\u001b[1;32m    677\u001b[0m         \u001b[0;32melse\u001b[0m\u001b[0;34m:\u001b[0m\u001b[0;34m\u001b[0m\u001b[0;34m\u001b[0m\u001b[0m\n\u001b[1;32m    678\u001b[0m             \u001b[0;32mreturn\u001b[0m \u001b[0mparsed_response\u001b[0m\u001b[0;34m\u001b[0m\u001b[0;34m\u001b[0m\u001b[0m\n",
      "\u001b[0;31mInvalidInput\u001b[0m: An error occurred (InvalidInput) when calling the ChangeResourceRecordSets operation: Invalid request: Expected exactly one of [AliasTarget, all of [TTL, and ResourceRecords], or TrafficPolicyInstanceId], but found none in Change with [Action=CREATE, Name=03489340862ef9da2.synesthesiavisualizer.com, Type=A, SetIdentifier=null]"
     ]
    }
   ],
   "source": [
    "url = instance_id[2:] + \".synesthesiavisualizer.com\"\n",
    "record = r53.change_resource_record_sets(HostedZoneId=hosted_zone_id, ChangeBatch={'Changes': [{'Action': 'CREATE','ResourceRecordSet': {'Name': url,'Type': 'A','ResourceRecords': [{'Value': ip_address},],}},]})"
   ]
  },
  {
   "cell_type": "code",
   "execution_count": 33,
   "metadata": {
    "collapsed": false
   },
   "outputs": [
    {
     "name": "stdout",
     "output_type": "stream",
     "text": [
      "{'Activities': [{'ActivityId': '29d5d7d8-ab04-b7e0-d051-31b1b93bac0d', 'AutoScalingGroupName': 'EC2ContainerService-sysvis-EcsInstanceAsg-196WYOOZAFI87', 'Description': 'Detaching EC2 instance: i-03489340862ef9da2', 'Cause': 'At 2020-11-23T17:33:18Z instance i-03489340862ef9da2 was detached in response to a user request, shrinking the capacity from 1 to 0.', 'StartTime': datetime.datetime(2020, 11, 23, 17, 33, 18, 509000, tzinfo=tzutc()), 'StatusCode': 'InProgress', 'Progress': 50, 'Details': '{\"Subnet ID\":\"subnet-0596881f608fd4f70\",\"Availability Zone\":\"us-east-1a\"}'}], 'ResponseMetadata': {'RequestId': '0baf0d30-c27b-4ba4-9054-a76fedcbc44e', 'HTTPStatusCode': 200, 'HTTPHeaders': {'x-amzn-requestid': '0baf0d30-c27b-4ba4-9054-a76fedcbc44e', 'content-type': 'text/xml', 'content-length': '1023', 'date': 'Mon, 23 Nov 2020 17:33:17 GMT'}, 'RetryAttempts': 0}}\n"
     ]
    }
   ],
   "source": [
    "#delete container\n",
    "import boto3\n",
    "autoscaling = boto3.client('autoscaling')\n",
    "ec2_client = boto3.client('ec2')\n",
    "#instance_id = 'i-070e63cb007c6703a'\n",
    "autoscalinggroup = 'EC2ContainerService-sysvis-EcsInstanceAsg-196WYOOZAFI87'\n",
    "autoscaling = boto3.client('autoscaling')\n",
    "response = autoscaling.detach_instances(InstanceIds=[instance_id],AutoScalingGroupName=autoscalinggroup, ShouldDecrementDesiredCapacity=True)\n",
    "print(response)\n",
    "response = ec2_client.terminate_instances(InstanceIds=[instance_id]) "
   ]
  },
  {
   "cell_type": "code",
   "execution_count": null,
   "metadata": {
    "collapsed": false
   },
   "outputs": [],
   "source": []
  }
 ],
 "metadata": {
  "kernelspec": {
   "argv": [
    "python",
    "-m",
    "ipykernel_launcher",
    "-f",
    "{connection_file}"
   ],
   "display_name": "Python 3",
   "env": null,
   "interrupt_mode": "signal",
   "language": "python",
   "metadata": null,
   "name": "python3"
  },
  "name": "create_container.ipynb"
 },
 "nbformat": 4,
 "nbformat_minor": 4
}
