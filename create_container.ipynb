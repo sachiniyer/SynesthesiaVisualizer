{
 "cells": [
  {
   "cell_type": "code",
   "execution_count": 6,
   "metadata": {
    "collapsed": false
   },
   "outputs": [
    {
     "name": "stdout",
     "output_type": "stream",
     "text": [
      "i-075548e1c717b5347\n"
     ]
    },
    {
     "name": "stdout",
     "output_type": "stream",
     "text": [
      "created\n",
      "attached\n"
     ]
    },
    {
     "name": "stdout",
     "output_type": "stream",
     "text": [
      "container\n"
     ]
    },
    {
     "name": "stdout",
     "output_type": "stream",
     "text": [
      "finished\n"
     ]
    },
    {
     "name": "stdout",
     "output_type": "stream",
     "text": [
      "ec2-54-226-46-180.compute-1.amazonaws.com\n"
     ]
    }
   ],
   "source": [
    "import boto3\n",
    "import time\n",
    "ec2 = boto3.resource('ec2')\n",
    "ec2_client = boto3.client('ec2')\n",
    "autoscaling = boto3.client('autoscaling')\n",
    "ecs = boto3.client('ecs')\n",
    "launchtemplate = 'EC2ContainerService-sysvis-EcsInstanceLc-1H1654961ZY8F'\n",
    "autoscalinggroup = 'EC2ContainerService-sysvis-EcsInstanceAsg-196WYOOZAFI87'\n",
    "vpc = 'vpc-0d7c412110e5f49f2'\n",
    "subnet = 'subnet-0596881f608fd4f70'\n",
    "securitygroup = 'sg-05c4123649a439051'\n",
    "instance_id = ec2.create_instances(MinCount=1, MaxCount=1, LaunchTemplate={'LaunchTemplateName':launchtemplate}, SecurityGroupIds=[securitygroup], SubnetId=subnet)\n",
    "instance_id = instance_id[0].instance_id\n",
    "print(instance_id)\n",
    "ready = False\n",
    "time.sleep(2)\n",
    "while not ready:\n",
    "    if ec2_client.describe_instances(InstanceIds=[instance_id])['Reservations'][0]['Instances'][0]['State']['Name'] =='running':\n",
    "        ready = True\n",
    "time.sleep(2)\n",
    "autoscaling.attach_instances(AutoScalingGroupName=autoscalinggroup, InstanceIds=[instance_id])\n",
    "ready = False\n",
    "print('created')\n",
    "while not ready:\n",
    "    response = autoscaling.describe_auto_scaling_groups(AutoScalingGroupNames=[autoscalinggroup])\n",
    "    realresponse = response['AutoScalingGroups'][0]\n",
    "    instances = realresponse['Instances']\n",
    "    for i in instances:\n",
    "        if i['InstanceId'] == instance_id:\n",
    "            ready = True\n",
    "print('attached')\n",
    "ready = False\n",
    "while not ready:\n",
    "    containers = ecs.list_container_instances(cluster='sysvis')['containerInstanceArns']\n",
    "    for i in containers:\n",
    "        container = i\n",
    "        findinstanceid = ecs.describe_container_instances(cluster='sysvis',containerInstances=[container])['containerInstances'][0]['ec2InstanceId']\n",
    "        if findinstanceid == instance_id:\n",
    "            ready = True\n",
    "task = ecs.start_task(cluster='sysvis', taskDefinition='sysvis', containerInstances=[container])\n",
    "time.sleep(2)\n",
    "task_arn = task['tasks'][0]['taskArn']\n",
    "ready = False\n",
    "print('container')\n",
    "while not ready:\n",
    "    status = ecs.describe_tasks(cluster = 'sysvis', tasks = [task_arn])['tasks'][0]['lastStatus']\n",
    "    if status == 'RUNNING':\n",
    "        ready = True\n",
    "print('finished')\n",
    "print(ec2_client.describe_instances(InstanceIds=[instance_id])['Reservations'][0]['Instances'][0]['PublicDnsName'])"
   ]
  },
  {
   "cell_type": "code",
   "execution_count": 8,
   "metadata": {
    "collapsed": false
   },
   "outputs": [
    {
     "name": "stdout",
     "output_type": "stream",
     "text": [
      "{'Activities': [{'ActivityId': '3fb5d64d-d3c0-ffec-ccdc-4f0e910d3fc6', 'AutoScalingGroupName': 'EC2ContainerService-sysvis-EcsInstanceAsg-196WYOOZAFI87', 'Description': 'Detaching EC2 instance: i-075548e1c717b5347', 'Cause': 'At 2020-11-04T13:31:55Z instance i-075548e1c717b5347 was detached in response to a user request, shrinking the capacity from 1 to 0.', 'StartTime': datetime.datetime(2020, 11, 4, 13, 31, 55, 839000, tzinfo=tzutc()), 'StatusCode': 'InProgress', 'Progress': 50, 'Details': '{\"Subnet ID\":\"subnet-0596881f608fd4f70\",\"Availability Zone\":\"us-east-1a\"}'}], 'ResponseMetadata': {'RequestId': 'f223d7de-9c47-4602-87c8-ff4e354037ee', 'HTTPStatusCode': 200, 'HTTPHeaders': {'x-amzn-requestid': 'f223d7de-9c47-4602-87c8-ff4e354037ee', 'content-type': 'text/xml', 'content-length': '1023', 'date': 'Wed, 04 Nov 2020 13:31:55 GMT'}, 'RetryAttempts': 0}}\n"
     ]
    }
   ],
   "source": [
    "import boto3\n",
    "autoscaling = boto3.client('autoscaling')\n",
    "ec2_client = boto3.client('ec2')\n",
    "instance_id = 'i-075548e1c717b5347'\n",
    "autoscalinggroup = 'EC2ContainerService-sysvis-EcsInstanceAsg-196WYOOZAFI87'\n",
    "autoscaling = boto3.client('autoscaling')\n",
    "response = autoscaling.detach_instances(InstanceIds=[instance_id],AutoScalingGroupName=autoscalinggroup, ShouldDecrementDesiredCapacity=True)\n",
    "print(response)\n",
    "response = ec2_client.terminate_instances(InstanceIds=[instance_id]) "
   ]
  },
  {
   "cell_type": "code",
   "execution_count": null,
   "metadata": {
    "collapsed": false
   },
   "outputs": [],
   "source": []
  }
 ],
 "metadata": {
  "kernelspec": {
   "argv": [
    "python",
    "-m",
    "ipykernel_launcher",
    "-f",
    "{connection_file}"
   ],
   "display_name": "Python 3",
   "env": null,
   "interrupt_mode": "signal",
   "language": "python",
   "metadata": null,
   "name": "python3"
  },
  "name": "create_container.ipynb"
 },
 "nbformat": 4,
 "nbformat_minor": 4
}
