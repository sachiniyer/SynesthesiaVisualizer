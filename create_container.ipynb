{
 "cells": [
  {
   "cell_type": "code",
   "execution_count": 6,
   "metadata": {
    "collapsed": false
   },
   "outputs": [
    {
     "name": "stdout",
     "output_type": "stream",
     "text": [
      "i-075548e1c717b5347\n"
     ]
    },
    {
     "name": "stdout",
     "output_type": "stream",
     "text": [
      "created\n",
      "attached\n"
     ]
    },
    {
     "name": "stdout",
     "output_type": "stream",
     "text": [
      "container\n"
     ]
    },
    {
     "name": "stdout",
     "output_type": "stream",
     "text": [
      "finished\n"
     ]
    },
    {
     "name": "stdout",
     "output_type": "stream",
     "text": [
      "ec2-54-226-46-180.compute-1.amazonaws.com\n"
     ]
    }
   ],
   "source": [
    "#create container\n",
    "import boto3\n",
    "import time\n",
    "ec2 = boto3.resource('ec2')\n",
    "ec2_client = boto3.client('ec2')\n",
    "autoscaling = boto3.client('autoscaling')\n",
    "ecs = boto3.client('ecs')\n",
    "launchtemplate = 'EC2ContainerService-sysvis-EcsInstanceLc-1H1654961ZY8F'\n",
    "autoscalinggroup = 'EC2ContainerService-sysvis-EcsInstanceAsg-196WYOOZAFI87'\n",
    "vpc = 'vpc-0d7c412110e5f49f2'\n",
    "subnet = 'subnet-0596881f608fd4f70'\n",
    "securitygroup = 'sg-05c4123649a439051'\n",
    "instance_id = ec2.create_instances(MinCount=1, MaxCount=1, LaunchTemplate={'LaunchTemplateName':launchtemplate}, SecurityGroupIds=[securitygroup], SubnetId=subnet)\n",
    "instance_id = instance_id[0].instance_id\n",
    "print(instance_id)\n",
    "ready = False\n",
    "time.sleep(2)\n",
    "while not ready:\n",
    "    if ec2_client.describe_instances(InstanceIds=[instance_id])['Reservations'][0]['Instances'][0]['State']['Name'] =='running':\n",
    "        ready = True\n",
    "time.sleep(2)\n",
    "autoscaling.attach_instances(AutoScalingGroupName=autoscalinggroup, InstanceIds=[instance_id])\n",
    "ready = False\n",
    "print('created')\n",
    "while not ready:\n",
    "    response = autoscaling.describe_auto_scaling_groups(AutoScalingGroupNames=[autoscalinggroup])\n",
    "    realresponse = response['AutoScalingGroups'][0]\n",
    "    instances = realresponse['Instances']\n",
    "    for i in instances:\n",
    "        if i['InstanceId'] == instance_id:\n",
    "            ready = True\n",
    "print('attached')\n",
    "ready = False\n",
    "while not ready:\n",
    "    containers = ecs.list_container_instances(cluster='sysvis')['containerInstanceArns']\n",
    "    for i in containers:\n",
    "        container = i\n",
    "        findinstanceid = ecs.describe_container_instances(cluster='sysvis',containerInstances=[container])['containerInstances'][0]['ec2InstanceId']\n",
    "        if findinstanceid == instance_id:\n",
    "            ready = True\n",
    "task = ecs.start_task(cluster='sysvis', taskDefinition='sysvis', containerInstances=[container])\n",
    "time.sleep(2)\n",
    "task_arn = task['tasks'][0]['taskArn']\n",
    "ready = False\n",
    "print('container')\n",
    "while not ready:\n",
    "    status = ecs.describe_tasks(cluster = 'sysvis', tasks = [task_arn])['tasks'][0]['lastStatus']\n",
    "    if status == 'RUNNING':\n",
    "        ready = True\n",
    "print('finished')\n",
    "print(ec2_client.describe_instances(InstanceIds=[instance_id])['Reservations'][0]['Instances'][0]['PublicDnsName'])"
   ]
  },
  {
   "cell_type": "code",
   "execution_count": 8,
   "metadata": {
    "collapsed": false
   },
   "outputs": [
    {
     "ename": "ClientError",
     "evalue": "An error occurred (ValidationError) when calling the DetachInstances operation: The instance i-070e63cb007c6703a is not part of Auto Scaling group EC2ContainerService-sysvis-EcsInstanceAsg-196WYOOZAFI87.",
     "output_type": "error",
     "traceback": [
      "\u001b[0;31m\u001b[0m",
      "\u001b[0;31mClientError\u001b[0mTraceback (most recent call last)",
      "\u001b[0;32m<ipython-input-8-49ffe8c40965>\u001b[0m in \u001b[0;36m<module>\u001b[0;34m\u001b[0m\n\u001b[1;32m      5\u001b[0m \u001b[0mautoscalinggroup\u001b[0m \u001b[0;34m=\u001b[0m \u001b[0;34m'EC2ContainerService-sysvis-EcsInstanceAsg-196WYOOZAFI87'\u001b[0m\u001b[0;34m\u001b[0m\u001b[0;34m\u001b[0m\u001b[0m\n\u001b[1;32m      6\u001b[0m \u001b[0mautoscaling\u001b[0m \u001b[0;34m=\u001b[0m \u001b[0mboto3\u001b[0m\u001b[0;34m.\u001b[0m\u001b[0mclient\u001b[0m\u001b[0;34m(\u001b[0m\u001b[0;34m'autoscaling'\u001b[0m\u001b[0;34m)\u001b[0m\u001b[0;34m\u001b[0m\u001b[0;34m\u001b[0m\u001b[0m\n\u001b[0;32m----> 7\u001b[0;31m \u001b[0mresponse\u001b[0m \u001b[0;34m=\u001b[0m \u001b[0mautoscaling\u001b[0m\u001b[0;34m.\u001b[0m\u001b[0mdetach_instances\u001b[0m\u001b[0;34m(\u001b[0m\u001b[0mInstanceIds\u001b[0m\u001b[0;34m=\u001b[0m\u001b[0;34m[\u001b[0m\u001b[0minstance_id\u001b[0m\u001b[0;34m]\u001b[0m\u001b[0;34m,\u001b[0m\u001b[0mAutoScalingGroupName\u001b[0m\u001b[0;34m=\u001b[0m\u001b[0mautoscalinggroup\u001b[0m\u001b[0;34m,\u001b[0m \u001b[0mShouldDecrementDesiredCapacity\u001b[0m\u001b[0;34m=\u001b[0m\u001b[0;32mTrue\u001b[0m\u001b[0;34m)\u001b[0m\u001b[0;34m\u001b[0m\u001b[0;34m\u001b[0m\u001b[0m\n\u001b[0m\u001b[1;32m      8\u001b[0m \u001b[0mprint\u001b[0m\u001b[0;34m(\u001b[0m\u001b[0mresponse\u001b[0m\u001b[0;34m)\u001b[0m\u001b[0;34m\u001b[0m\u001b[0;34m\u001b[0m\u001b[0m\n\u001b[1;32m      9\u001b[0m \u001b[0mresponse\u001b[0m \u001b[0;34m=\u001b[0m \u001b[0mec2_client\u001b[0m\u001b[0;34m.\u001b[0m\u001b[0mterminate_instances\u001b[0m\u001b[0;34m(\u001b[0m\u001b[0mInstanceIds\u001b[0m\u001b[0;34m=\u001b[0m\u001b[0;34m[\u001b[0m\u001b[0minstance_id\u001b[0m\u001b[0;34m]\u001b[0m\u001b[0;34m)\u001b[0m\u001b[0;34m\u001b[0m\u001b[0;34m\u001b[0m\u001b[0m\n",
      "\u001b[0;32m~/docs/coding/Python/env/lib/python3.8/site-packages/botocore/client.py\u001b[0m in \u001b[0;36m_api_call\u001b[0;34m(self, *args, **kwargs)\u001b[0m\n\u001b[1;32m    355\u001b[0m                     \"%s() only accepts keyword arguments.\" % py_operation_name)\n\u001b[1;32m    356\u001b[0m             \u001b[0;31m# The \"self\" in this scope is referring to the BaseClient.\u001b[0m\u001b[0;34m\u001b[0m\u001b[0;34m\u001b[0m\u001b[0;34m\u001b[0m\u001b[0m\n\u001b[0;32m--> 357\u001b[0;31m             \u001b[0;32mreturn\u001b[0m \u001b[0mself\u001b[0m\u001b[0;34m.\u001b[0m\u001b[0m_make_api_call\u001b[0m\u001b[0;34m(\u001b[0m\u001b[0moperation_name\u001b[0m\u001b[0;34m,\u001b[0m \u001b[0mkwargs\u001b[0m\u001b[0;34m)\u001b[0m\u001b[0;34m\u001b[0m\u001b[0;34m\u001b[0m\u001b[0m\n\u001b[0m\u001b[1;32m    358\u001b[0m \u001b[0;34m\u001b[0m\u001b[0m\n\u001b[1;32m    359\u001b[0m         \u001b[0m_api_call\u001b[0m\u001b[0;34m.\u001b[0m\u001b[0m__name__\u001b[0m \u001b[0;34m=\u001b[0m \u001b[0mstr\u001b[0m\u001b[0;34m(\u001b[0m\u001b[0mpy_operation_name\u001b[0m\u001b[0;34m)\u001b[0m\u001b[0;34m\u001b[0m\u001b[0;34m\u001b[0m\u001b[0m\n",
      "\u001b[0;32m~/docs/coding/Python/env/lib/python3.8/site-packages/botocore/client.py\u001b[0m in \u001b[0;36m_make_api_call\u001b[0;34m(self, operation_name, api_params)\u001b[0m\n\u001b[1;32m    674\u001b[0m             \u001b[0merror_code\u001b[0m \u001b[0;34m=\u001b[0m \u001b[0mparsed_response\u001b[0m\u001b[0;34m.\u001b[0m\u001b[0mget\u001b[0m\u001b[0;34m(\u001b[0m\u001b[0;34m\"Error\"\u001b[0m\u001b[0;34m,\u001b[0m \u001b[0;34m{\u001b[0m\u001b[0;34m}\u001b[0m\u001b[0;34m)\u001b[0m\u001b[0;34m.\u001b[0m\u001b[0mget\u001b[0m\u001b[0;34m(\u001b[0m\u001b[0;34m\"Code\"\u001b[0m\u001b[0;34m)\u001b[0m\u001b[0;34m\u001b[0m\u001b[0;34m\u001b[0m\u001b[0m\n\u001b[1;32m    675\u001b[0m             \u001b[0merror_class\u001b[0m \u001b[0;34m=\u001b[0m \u001b[0mself\u001b[0m\u001b[0;34m.\u001b[0m\u001b[0mexceptions\u001b[0m\u001b[0;34m.\u001b[0m\u001b[0mfrom_code\u001b[0m\u001b[0;34m(\u001b[0m\u001b[0merror_code\u001b[0m\u001b[0;34m)\u001b[0m\u001b[0;34m\u001b[0m\u001b[0;34m\u001b[0m\u001b[0m\n\u001b[0;32m--> 676\u001b[0;31m             \u001b[0;32mraise\u001b[0m \u001b[0merror_class\u001b[0m\u001b[0;34m(\u001b[0m\u001b[0mparsed_response\u001b[0m\u001b[0;34m,\u001b[0m \u001b[0moperation_name\u001b[0m\u001b[0;34m)\u001b[0m\u001b[0;34m\u001b[0m\u001b[0;34m\u001b[0m\u001b[0m\n\u001b[0m\u001b[1;32m    677\u001b[0m         \u001b[0;32melse\u001b[0m\u001b[0;34m:\u001b[0m\u001b[0;34m\u001b[0m\u001b[0;34m\u001b[0m\u001b[0m\n\u001b[1;32m    678\u001b[0m             \u001b[0;32mreturn\u001b[0m \u001b[0mparsed_response\u001b[0m\u001b[0;34m\u001b[0m\u001b[0;34m\u001b[0m\u001b[0m\n",
      "\u001b[0;31mClientError\u001b[0m: An error occurred (ValidationError) when calling the DetachInstances operation: The instance i-070e63cb007c6703a is not part of Auto Scaling group EC2ContainerService-sysvis-EcsInstanceAsg-196WYOOZAFI87."
     ]
    }
   ],
   "source": [
    "#delete container\n",
    "import boto3\n",
    "autoscaling = boto3.client('autoscaling')\n",
    "ec2_client = boto3.client('ec2')\n",
    "instance_id = 'i-070e63cb007c6703a'\n",
    "autoscalinggroup = 'EC2ContainerService-sysvis-EcsInstanceAsg-196WYOOZAFI87'\n",
    "autoscaling = boto3.client('autoscaling')\n",
    "response = autoscaling.detach_instances(InstanceIds=[instance_id],AutoScalingGroupName=autoscalinggroup, ShouldDecrementDesiredCapacity=True)\n",
    "print(response)\n",
    "response = ec2_client.terminate_instances(InstanceIds=[instance_id]) "
   ]
  },
  {
   "cell_type": "code",
   "execution_count": null,
   "metadata": {
    "collapsed": false
   },
   "outputs": [],
   "source": [
    "\n"
   ]
  }
 ],
 "metadata": {
  "kernelspec": {
   "argv": [
    "python",
    "-m",
    "ipykernel_launcher",
    "-f",
    "{connection_file}"
   ],
   "display_name": "Python 3",
   "env": null,
   "interrupt_mode": "signal",
   "language": "python",
   "metadata": null,
   "name": "python3"
  },
  "name": "create_container.ipynb"
 },
 "nbformat": 4,
 "nbformat_minor": 4
}
