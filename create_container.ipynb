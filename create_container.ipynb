{
 "cells": [
  {
   "cell_type": "code",
   "execution_count": 15,
   "metadata": {
    "collapsed": false
   },
   "outputs": [
    {
     "name": "stdout",
     "output_type": "stream",
     "text": [
      "instance id i-0e0be7ba52b332b9c\n"
     ]
    },
    {
     "name": "stdout",
     "output_type": "stream",
     "text": [
      "created\n",
      "attached\n"
     ]
    },
    {
     "name": "stdout",
     "output_type": "stream",
     "text": [
      "{'tasks': [{'attachments': [], 'availabilityZone': 'us-east-1a', 'clusterArn': 'arn:aws:ecs:us-east-1:351629464041:cluster/sysvis', 'containerInstanceArn': 'arn:aws:ecs:us-east-1:351629464041:container-instance/sysvis/f85d9cdf3bf34d95aa88c39b27be8f0d', 'containers': [{'containerArn': 'arn:aws:ecs:us-east-1:351629464041:container/0bdf3b42-0a6b-469d-bce9-48c071fbca2a', 'taskArn': 'arn:aws:ecs:us-east-1:351629464041:task/sysvis/6dd42247440c4c5eaaf71ee06e7e492a', 'name': 'sysvis', 'image': '351629464041.dkr.ecr.us-east-1.amazonaws.com/sysvis', 'lastStatus': 'PENDING', 'networkInterfaces': [], 'cpu': '0', 'memory': '15258'}], 'cpu': '0', 'createdAt': datetime.datetime(2020, 11, 28, 19, 38, 22, 496000, tzinfo=tzlocal()), 'desiredStatus': 'RUNNING', 'group': 'family:sysvis', 'lastStatus': 'PENDING', 'launchType': 'EC2', 'memory': '15258', 'overrides': {'containerOverrides': [{'name': 'sysvis'}], 'inferenceAcceleratorOverrides': []}, 'tags': [], 'taskArn': 'arn:aws:ecs:us-east-1:351629464041:task/sysvis/6dd42247440c4c5eaaf71ee06e7e492a', 'taskDefinitionArn': 'arn:aws:ecs:us-east-1:351629464041:task-definition/sysvis:3', 'version': 1}], 'failures': [], 'ResponseMetadata': {'RequestId': '77caa865-765b-4cdd-8b75-90a16dcd7f1c', 'HTTPStatusCode': 200, 'HTTPHeaders': {'x-amzn-requestid': '77caa865-765b-4cdd-8b75-90a16dcd7f1c', 'content-type': 'application/x-amz-json-1.1', 'content-length': '1082', 'date': 'Sun, 29 Nov 2020 03:38:22 GMT'}, 'RetryAttempts': 0}}\n"
     ]
    },
    {
     "name": "stdout",
     "output_type": "stream",
     "text": [
      "container\n"
     ]
    },
    {
     "name": "stdout",
     "output_type": "stream",
     "text": [
      "finished\n",
      "Ip Address 54.174.253.49\n"
     ]
    },
    {
     "name": "stdout",
     "output_type": "stream",
     "text": [
      "Public Dns Name ec2-54-174-253-49.compute-1.amazonaws.com\n"
     ]
    },
    {
     "name": "stdout",
     "output_type": "stream",
     "text": [
      "zone\n"
     ]
    }
   ],
   "source": [
    "#create container\n",
    "import boto3\n",
    "import time\n",
    "ec2 = boto3.resource('ec2')\n",
    "ec2_client = boto3.client('ec2')\n",
    "autoscaling = boto3.client('autoscaling')\n",
    "ecs = boto3.client('ecs')\n",
    "r53 = boto3.client('route53')\n",
    "launchtemplate = 'EC2ContainerService-sysvis-EcsInstanceLc-1H1654961ZY8F'\n",
    "autoscalinggroup = 'EC2ContainerService-sysvis-EcsInstanceAsg-196WYOOZAFI87'\n",
    "vpc = 'vpc-0d7c412110e5f49f2'\n",
    "subnet = 'subnet-0596881f608fd4f70'\n",
    "securitygroup = 'sg-05c4123649a439051'\n",
    "hosted_zone_id = \"Z09241041ZJLPUFRNRNGX\"\n",
    "instance_id = ec2.create_instances(MinCount=1, MaxCount=1, LaunchTemplate={'LaunchTemplateName':launchtemplate}, SecurityGroupIds=[securitygroup], SubnetId=subnet)\n",
    "instance_id = instance_id[0].instance_id\n",
    "print('instance id', instance_id)\n",
    "ready = False\n",
    "time.sleep(2)\n",
    "while not ready:\n",
    "    if ec2_client.describe_instances(InstanceIds=[instance_id])['Reservations'][0]['Instances'][0]['State']['Name'] =='running':\n",
    "        ready = True\n",
    "time.sleep(2)\n",
    "autoscaling.attach_instances(AutoScalingGroupName=autoscalinggroup, InstanceIds=[instance_id])\n",
    "ready = False\n",
    "print('created')\n",
    "while not ready:\n",
    "    response = autoscaling.describe_auto_scaling_groups(AutoScalingGroupNames=[autoscalinggroup])\n",
    "    realresponse = response['AutoScalingGroups'][0]\n",
    "    instances = realresponse['Instances']\n",
    "    for i in instances:\n",
    "        if i['InstanceId'] == instance_id:\n",
    "            ready = True\n",
    "print('attached')\n",
    "ready = False\n",
    "while not ready:\n",
    "    containers = ecs.list_container_instances(cluster='sysvis')['containerInstanceArns']\n",
    "    for i in containers:\n",
    "        container = i\n",
    "        findinstanceid = ecs.describe_container_instances(cluster='sysvis',containerInstances=[container])['containerInstances'][0]['ec2InstanceId']\n",
    "        if findinstanceid == instance_id:\n",
    "            ready = True\n",
    "task = ecs.start_task(cluster='sysvis', taskDefinition='sysvis', containerInstances=[container])\n",
    "time.sleep(2)\n",
    "task_arn = task['tasks'][0]['taskArn']\n",
    "ready = False\n",
    "print('container')\n",
    "while not ready:\n",
    "    status = ecs.describe_tasks(cluster = 'sysvis', tasks = [task_arn])['tasks'][0]['lastStatus']\n",
    "    if status == 'RUNNING':\n",
    "        ready = True\n",
    "print('finished')\n",
    "print('Ip Address', ec2_client.describe_instances(InstanceIds=[instance_id])['Reservations'][0]['Instances'][0]['PublicIpAddress'])\n",
    "ip_address = ec2_client.describe_instances(InstanceIds=[instance_id])['Reservations'][0]['Instances'][0]['PublicIpAddress']\n",
    "print('Public Dns Name', ec2_client.describe_instances(InstanceIds=[instance_id])['Reservations'][0]['Instances'][0]['PublicDnsName'])\n",
    "url = instance_id[2:] + \".synesthesiavisualizer.com\"\n",
    "record = r53.change_resource_record_sets(HostedZoneId=hosted_zone_id, ChangeBatch={'Changes': [{'Action': 'CREATE','ResourceRecordSet': {'Name': url,'Type': 'A', 'TTL':300, 'ResourceRecords': [{'Value': ip_address},],}},]})\n",
    "print('zone')\n"
   ]
  },
  {
   "cell_type": "code",
   "execution_count": 28,
   "metadata": {
    "collapsed": false
   },
   "outputs": [
    {
     "name": "stdout",
     "output_type": "stream",
     "text": [
      "no record\n",
      "{'TerminatingInstances': [{'CurrentState': {'Code': 32, 'Name': 'shutting-down'}, 'InstanceId': 'i-0a0f762d278626f83', 'PreviousState': {'Code': 16, 'Name': 'running'}}], 'ResponseMetadata': {'RequestId': 'cbe29e0f-98ed-4d35-bb17-a96443bb0bc3', 'HTTPStatusCode': 200, 'HTTPHeaders': {'x-amzn-requestid': 'cbe29e0f-98ed-4d35-bb17-a96443bb0bc3', 'content-type': 'text/xml;charset=UTF-8', 'transfer-encoding': 'chunked', 'vary': 'accept-encoding', 'date': 'Sun, 29 Nov 2020 19:20:06 GMT', 'server': 'AmazonEC2'}, 'RetryAttempts': 0}}\n"
     ]
    }
   ],
   "source": [
    "#delete container\n",
    "import boto3\n",
    "autoscaling = boto3.client('autoscaling')\n",
    "ec2_client = boto3.client('ec2')\n",
    "instance_id = 'i-076613f4eb39cf069'\n",
    "autoscalinggroup = 'EC2ContainerService-sysvis-EcsInstanceAsg-196WYOOZAFI87'\n",
    "autoscaling = boto3.client('autoscaling')\n",
    "try:\n",
    "    autoscaling = autoscaling.detach_instances(InstanceIds=[instance_id],AutoScalingGroupName=autoscalinggroup, ShouldDecrementDesiredCapacity=True)\n",
    "except:\n",
    "    print(\"not attached\")\n",
    "url = instance_id[2:] + \".synesthesiavisualizer.com\"\n",
    "try:\n",
    "    record = r53.change_resource_record_sets(HostedZoneId=hosted_zone_id, ChangeBatch={'Changes': [{'Action': 'DELETE','ResourceRecordSet': {'Name': url,'Type': 'A', 'TTL':300, 'ResourceRecords': [{'Value': ip_address},],}},]})\n",
    "except:\n",
    "    print(\"no record\")\n",
    "print(response)\n",
    "response = ec2_client.terminate_instances(InstanceIds=[instance_id]) "
   ]
  },
  {
   "cell_type": "code",
   "execution_count": 9,
   "metadata": {
    "collapsed": false
   },
   "outputs": [],
   "source": []
  },
  {
   "cell_type": "code",
   "execution_count": null,
   "metadata": {
    "collapsed": false
   },
   "outputs": [],
   "source": []
  }
 ],
 "metadata": {
  "kernelspec": {
   "argv": [
    "python",
    "-m",
    "ipykernel_launcher",
    "-f",
    "{connection_file}"
   ],
   "display_name": "Python 3",
   "env": null,
   "interrupt_mode": "signal",
   "language": "python",
   "metadata": null,
   "name": "python3"
  },
  "name": "create_container.ipynb"
 },
 "nbformat": 4,
 "nbformat_minor": 4
}
