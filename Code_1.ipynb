{
 "cells": [
  {
   "cell_type": "code",
   "execution_count": 3,
   "metadata": {
    "collapsed": false
   },
   "outputs": [
    {
     "name": "stdout",
     "output_type": "stream",
     "text": [
      "Error:0.4964100319027255\n"
     ]
    },
    {
     "name": "stdout",
     "output_type": "stream",
     "text": [
      "Error:0.008584525653247153\n"
     ]
    },
    {
     "name": "stdout",
     "output_type": "stream",
     "text": [
      "Error:0.005789459862507812\n"
     ]
    },
    {
     "name": "stdout",
     "output_type": "stream",
     "text": [
      "Error:0.004629176776769988\n"
     ]
    },
    {
     "name": "stdout",
     "output_type": "stream",
     "text": [
      "Error:0.003958765280273649\n"
     ]
    },
    {
     "name": "stdout",
     "output_type": "stream",
     "text": [
      "Error:0.003510122567861676\n"
     ]
    },
    {
     "name": "stdout",
     "output_type": "stream",
     "text": [
      "[[0.00260572]\n",
      " [0.99672209]\n",
      " [0.99701711]\n",
      " [0.00386759]]\n"
     ]
    }
   ],
   "source": [
    "import numpy as np\n",
    "\n",
    "def nonlin(x,deriv=False):\n",
    "  if(deriv==True):\n",
    "    return x*(1-x)\n",
    "  return 1/(1+np.exp(-x))\n",
    "    \n",
    "X = np.array([[0,0,1],[0,1,1],[1,0,1],[1,1,1]])\n",
    "y = np.array([[0],[1],[1],[0]])\n",
    "np.random.seed(1)\n",
    "\n",
    "syn0 = 2*np.random.random((3,4)) - 1\n",
    "syn1 = 2*np.random.random((4,1)) - 1\n",
    "\n",
    "for j in range(60000):\n",
    "  l0 = X\n",
    "  l1 = nonlin(np.dot(l0,syn0))\n",
    "  l2 = nonlin(np.dot(l1,syn1))\n",
    "  l2_error = y - l2\n",
    "  if (j% 10000) == 0:\n",
    "    print (\"Error:\" + str(np.mean(np.abs(l2_error))))\n",
    "  l2_delta = l2_error*nonlin(l2,deriv=True)\n",
    "  l1_error = l2_delta.dot(syn1.T)\n",
    "  l1_delta = l1_error * nonlin(l1,deriv=True)\n",
    "  syn1 += l1.T.dot(l2_delta)\n",
    "  syn0 += l0.T.dot(l1_delta)\n",
    "print(l2)"
   ]
  }
 ],
 "metadata": {
  "kernelspec": {
   "argv": [
    "python",
    "-m",
    "ipykernel_launcher",
    "-f",
    "{connection_file}"
   ],
   "display_name": "Python 3",
   "env": null,
   "interrupt_mode": "signal",
   "language": "python",
   "metadata": null,
   "name": "python3"
  },
  "name": "Code_1.ipynb"
 },
 "nbformat": 4,
 "nbformat_minor": 4
}
