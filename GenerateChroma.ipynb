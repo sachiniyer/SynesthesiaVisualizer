{
 "cells": [
  {
   "cell_type": "code",
   "execution_count": 2,
   "metadata": {},
   "outputs": [],
   "source": [
    "import numpy as np\n",
    "import librosa\n",
    "import wavio"
   ]
  },
  {
   "cell_type": "code",
   "execution_count": 3,
   "metadata": {},
   "outputs": [],
   "source": [
    "amount = 3\n",
    "notes = np.random.randint(1,127, size = amount)"
   ]
  },
  {
   "cell_type": "code",
   "execution_count": 4,
   "metadata": {},
   "outputs": [
    {
     "name": "stdout",
     "output_type": "stream",
     "text": [
      "[ 52 121 122]\n"
     ]
    }
   ],
   "source": [
    "print(notes)"
   ]
  },
  {
   "cell_type": "code",
   "execution_count": 14,
   "metadata": {},
   "outputs": [],
   "source": [
    "rate = 44100\n",
    "T = 3\n",
    "j = 0\n",
    "for i in notes:\n",
    "    j += 1\n",
    "    f = librosa.midi_to_hz(i)\n",
    "    t = np.linspace(0, T, T*rate, endpoint=False)\n",
    "    x = np.sin(2*np.pi * f * t)\n",
    "    name = str(i) + \"_\" + str(j) + \".WAV\"\n",
    "    wavio.write(name, x, rate, sampwidth=3)"
   ]
  },
  {
   "cell_type": "code",
   "execution_count": null,
   "metadata": {},
   "outputs": [],
   "source": []
  }
 ],
 "metadata": {
  "kernelspec": {
   "display_name": "Python 3",
   "language": "python",
   "name": "python3"
  },
  "language_info": {
   "codemirror_mode": {
    "name": "ipython",
    "version": 3
   },
   "file_extension": ".py",
   "mimetype": "text/x-python",
   "name": "python",
   "nbconvert_exporter": "python",
   "pygments_lexer": "ipython3",
   "version": "3.8.2"
  }
 },
 "nbformat": 4,
 "nbformat_minor": 4
}
